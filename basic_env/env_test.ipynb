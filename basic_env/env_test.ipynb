{
 "cells": [
  {
   "cell_type": "code",
   "execution_count": 15,
   "metadata": {},
   "outputs": [],
   "source": [
    "import gym"
   ]
  },
  {
   "cell_type": "code",
   "execution_count": 16,
   "metadata": {},
   "outputs": [],
   "source": [
    "import os\n",
    "os.getcwd()\n",
    "\n",
    "import sys\n",
    "sys.path.append('/home/rohit/Documents/learning_table_tennis_from_scratch/')"
   ]
  },
  {
   "cell_type": "code",
   "execution_count": null,
   "metadata": {},
   "outputs": [],
   "source": []
  },
  {
   "cell_type": "code",
   "execution_count": 13,
   "metadata": {},
   "outputs": [],
   "source": [
    "from env import PAMenv\n",
    "from learning_table_tennis_from_scratch.hysr_one_ball_env import HysrOneBallEnv\n",
    "\n",
    "\n",
    "testenv = PAMenv(hysr_one_ball_config_file = \"../config/hysr_demos.json\")\n",
    "# testenv = HysrOneBallEnv(hysr_one_ball_config_file = '../example/config.json')"
   ]
  },
  {
   "cell_type": "code",
   "execution_count": 14,
   "metadata": {},
   "outputs": [
    {
     "name": "stdout",
     "output_type": "stream",
     "text": [
      "Observation space: Box(0.0, 1.0, (16,), float32)\n",
      "Shape: (16,)\n",
      "Action space: Box(-1.0, 1.0, (8,), float32)\n"
     ]
    }
   ],
   "source": [
    "print(\"Observation space:\", testenv.observation_space)\n",
    "print(\"Shape:\", testenv.observation_space.shape)\n",
    "# Discrete(2) means that there is two discrete actions\n",
    "print(\"Action space:\", testenv.action_space)\n"
   ]
  },
  {
   "cell_type": "code",
   "execution_count": 17,
   "metadata": {},
   "outputs": [
    {
     "ename": "KeyboardInterrupt",
     "evalue": "",
     "output_type": "error",
     "traceback": [
      "\u001b[0;31m---------------------------------------------------------------------------\u001b[0m",
      "\u001b[0;31mKeyboardInterrupt\u001b[0m                         Traceback (most recent call last)",
      "\u001b[1;32m/home/rohit/Documents/learning_table_tennis_from_scratch/basic_env/env_test.ipynb Cell 6'\u001b[0m in \u001b[0;36m<cell line: 2>\u001b[0;34m()\u001b[0m\n\u001b[1;32m      <a href='vscode-notebook-cell:/home/rohit/Documents/learning_table_tennis_from_scratch/basic_env/env_test.ipynb#ch0000005?line=0'>1</a>\u001b[0m \u001b[39m# The reset method is called at the beginning of an episode\u001b[39;00m\n\u001b[0;32m----> <a href='vscode-notebook-cell:/home/rohit/Documents/learning_table_tennis_from_scratch/basic_env/env_test.ipynb#ch0000005?line=1'>2</a>\u001b[0m obs \u001b[39m=\u001b[39m testenv\u001b[39m.\u001b[39;49mreset()\n\u001b[1;32m      <a href='vscode-notebook-cell:/home/rohit/Documents/learning_table_tennis_from_scratch/basic_env/env_test.ipynb#ch0000005?line=2'>3</a>\u001b[0m \u001b[39mprint\u001b[39m(\u001b[39m\"\u001b[39m\u001b[39mBase obs = \u001b[39m\u001b[39m\"\u001b[39m, obs)\n\u001b[1;32m      <a href='vscode-notebook-cell:/home/rohit/Documents/learning_table_tennis_from_scratch/basic_env/env_test.ipynb#ch0000005?line=3'>4</a>\u001b[0m \u001b[39m# Sample a random action\u001b[39;00m\n",
      "File \u001b[0;32m~/Documents/learning_table_tennis_from_scratch/basic_env/env.py:275\u001b[0m, in \u001b[0;36mPAMenv.reset\u001b[0;34m(self)\u001b[0m\n\u001b[1;32m    273\u001b[0m \u001b[39mdef\u001b[39;00m \u001b[39mreset\u001b[39m(\u001b[39mself\u001b[39m):\n\u001b[1;32m    274\u001b[0m     \u001b[39mself\u001b[39m\u001b[39m.\u001b[39minit_episode()\n\u001b[0;32m--> 275\u001b[0m     observation \u001b[39m=\u001b[39m \u001b[39mself\u001b[39;49m\u001b[39m.\u001b[39;49m_hysr\u001b[39m.\u001b[39;49mreset()\n\u001b[1;32m    276\u001b[0m     observation \u001b[39m=\u001b[39m \u001b[39mself\u001b[39m\u001b[39m.\u001b[39m_convert_observation(observation)\n\u001b[1;32m    277\u001b[0m     \u001b[39mif\u001b[39;00m \u001b[39mnot\u001b[39;00m \u001b[39mself\u001b[39m\u001b[39m.\u001b[39m_accelerated_time:\n",
      "File \u001b[0;32m~/Documents/learning_table_tennis_from_scratch/basic_env/base_env.py:571\u001b[0m, in \u001b[0;36mPAMbase.reset\u001b[0;34m(self)\u001b[0m\n\u001b[1;32m    565\u001b[0m \u001b[39m# resetting the hit point\u001b[39;00m\n\u001b[1;32m    566\u001b[0m \u001b[39m# self._hit_point.set([0, 0, -0.62], [0, 0, 0])\u001b[39;00m\n\u001b[1;32m    568\u001b[0m \u001b[39mif\u001b[39;00m \u001b[39mself\u001b[39m\u001b[39m.\u001b[39m_instant_reset:\n\u001b[1;32m    569\u001b[0m     \u001b[39m# going back to vertical position\u001b[39;00m\n\u001b[1;32m    570\u001b[0m     \u001b[39m# on simulated robot\u001b[39;00m\n\u001b[0;32m--> 571\u001b[0m     \u001b[39mself\u001b[39;49m\u001b[39m.\u001b[39;49m_do_instant_reset()\n\u001b[1;32m    572\u001b[0m     \u001b[39m# mirroring.align_robots(self._pressure_commands, self._mirrorings)\u001b[39;00m\n\u001b[1;32m    573\u001b[0m \u001b[39melse\u001b[39;00m:\n\u001b[1;32m    574\u001b[0m     \u001b[39m# moving to reset position\u001b[39;00m\n\u001b[1;32m    575\u001b[0m     \u001b[39mself\u001b[39m\u001b[39m.\u001b[39m_do_natural_reset()\n",
      "File \u001b[0;32m~/Documents/learning_table_tennis_from_scratch/basic_env/base_env.py:450\u001b[0m, in \u001b[0;36mPAMbase._do_instant_reset\u001b[0;34m(self)\u001b[0m\n\u001b[1;32m    444\u001b[0m \u001b[39mdef\u001b[39;00m \u001b[39m_do_instant_reset\u001b[39m(\u001b[39mself\u001b[39m):\n\u001b[1;32m    445\u001b[0m \n\u001b[1;32m    446\u001b[0m     \u001b[39m# \"instant\": reset all mujoco instances\u001b[39;00m\n\u001b[1;32m    447\u001b[0m     \u001b[39m# to their starting state. Not applicable\u001b[39;00m\n\u001b[1;32m    448\u001b[0m     \u001b[39m# to real robot\u001b[39;00m\n\u001b[0;32m--> 450\u001b[0m     \u001b[39mself\u001b[39;49m\u001b[39m.\u001b[39;49m_real_robot_handle\u001b[39m.\u001b[39;49mreset()\n\u001b[1;32m    451\u001b[0m     \u001b[39m# self._simulated_robot_handle.reset()\u001b[39;00m\n\u001b[1;32m    452\u001b[0m     \u001b[39m# for handle in _ExtraBall.handles.values():\u001b[39;00m\n\u001b[1;32m    453\u001b[0m     \u001b[39m#     handle.reset()\u001b[39;00m\n\u001b[1;32m    454\u001b[0m     \u001b[39mself\u001b[39m\u001b[39m.\u001b[39m_move_to_pressure(\u001b[39mself\u001b[39m\u001b[39m.\u001b[39m_hysr_config\u001b[39m.\u001b[39mreference_posture)\n",
      "File \u001b[0;32m~/miniconda3/envs/pamx/lib/python3.8/site-packages/pam_mujoco/mujoco_handle.py:524\u001b[0m, in \u001b[0;36mMujocoHandle.reset\u001b[0;34m(self)\u001b[0m\n\u001b[1;32m    522\u001b[0m start_mstep \u001b[39m=\u001b[39m \u001b[39mself\u001b[39m\u001b[39m.\u001b[39mget_mujoco_step()\n\u001b[1;32m    523\u001b[0m \u001b[39mwhile\u001b[39;00m \u001b[39mself\u001b[39m\u001b[39m.\u001b[39mget_mujoco_step() \u001b[39m==\u001b[39m start_mstep:\n\u001b[0;32m--> 524\u001b[0m     time\u001b[39m.\u001b[39;49msleep(\u001b[39m0.0005\u001b[39;49m)\n",
      "\u001b[0;31mKeyboardInterrupt\u001b[0m: "
     ]
    }
   ],
   "source": [
    "# The reset method is called at the beginning of an episode\n",
    "obs = testenv.reset()\n",
    "print(\"Base obs = \", obs)\n",
    "# Sample a random action\n",
    "action = testenv.action_space.sample()\n",
    "print(\"Sampled action:\", action)\n",
    "obs, reward, done, info = testenv.step(action)\n",
    "# Note the obs is a numpy array\n",
    "# info is an empty dict for now but can contain any debugging info\n",
    "# reward is a scalar\n",
    "print(obs.shape, reward, done, info)"
   ]
  },
  {
   "cell_type": "code",
   "execution_count": 6,
   "metadata": {},
   "outputs": [
    {
     "data": {
      "text/plain": [
       "array([-0.49859783,  0.6252714 ,  0.70160276,  0.95431817, -0.14131843,\n",
       "       -0.15033181,  0.5520935 ,  0.90412354], dtype=float32)"
      ]
     },
     "execution_count": 6,
     "metadata": {},
     "output_type": "execute_result"
    }
   ],
   "source": [
    "testenv.action_space.sample()"
   ]
  },
  {
   "cell_type": "code",
   "execution_count": null,
   "metadata": {},
   "outputs": [],
   "source": []
  }
 ],
 "metadata": {
  "kernelspec": {
   "display_name": "Python 3.8.13 ('pamx')",
   "language": "python",
   "name": "python3"
  },
  "language_info": {
   "codemirror_mode": {
    "name": "ipython",
    "version": 3
   },
   "file_extension": ".py",
   "mimetype": "text/x-python",
   "name": "python",
   "nbconvert_exporter": "python",
   "pygments_lexer": "ipython3",
   "version": "3.8.13"
  },
  "orig_nbformat": 4,
  "vscode": {
   "interpreter": {
    "hash": "d0d83f2a63fc83a1177a765d06c134d884b317f067eb19e0fb3706b289b692bb"
   }
  }
 },
 "nbformat": 4,
 "nbformat_minor": 2
}
